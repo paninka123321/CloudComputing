{
 "cells": [
  {
   "cell_type": "code",
   "execution_count": 1,
   "id": "ad720c5e-2de5-49d5-a672-355f2a1bb5f5",
   "metadata": {},
   "outputs": [
    {
     "name": "stdout",
     "output_type": "stream",
     "text": [
      "Requirement already satisfied: setuptools in d:\\anaconda\\envs\\mlenv\\lib\\site-packages (78.1.1)\n"
     ]
    }
   ],
   "source": [
    "!pip install setuptools\n"
   ]
  },
  {
   "cell_type": "code",
   "execution_count": null,
   "id": "323e3869-a7b3-4094-ac9f-86e42f132ac6",
   "metadata": {},
   "outputs": [],
   "source": []
  }
 ],
 "metadata": {
  "kernelspec": {
   "display_name": "Python 3 (ipykernel)",
   "language": "python",
   "name": "python3"
  },
  "language_info": {
   "codemirror_mode": {
    "name": "ipython",
    "version": 3
   },
   "file_extension": ".py",
   "mimetype": "text/x-python",
   "name": "python",
   "nbconvert_exporter": "python",
   "pygments_lexer": "ipython3",
   "version": "3.9.21"
  }
 },
 "nbformat": 4,
 "nbformat_minor": 5
}
