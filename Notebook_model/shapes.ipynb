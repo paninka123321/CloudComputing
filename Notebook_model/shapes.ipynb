{
 "cells": [
  {
   "cell_type": "code",
   "execution_count": 16,
   "id": "8fdbb769-05c3-4115-a45f-7f6d0b2f9753",
   "metadata": {},
   "outputs": [
    {
     "data": {
      "text/plain": [
       "['isolation_forest_model.joblib']"
      ]
     },
     "execution_count": 16,
     "metadata": {},
     "output_type": "execute_result"
    }
   ],
   "source": [
    "import pandas as pd\n",
    "import numpy as np\n",
    "import matplotlib.pyplot as plt\n",
    "from sklearn.preprocessing import StandardScaler\n",
    "import sys\n",
    "import os\n",
    "from sklearn.ensemble import IsolationForest\n",
    "import joblib\n",
    "\n",
    "\n",
    "results = pd.read_csv ('../database/csvki/shapes_dataset.csv', sep = ',')\n",
    "\n",
    "mapping = {6: 1.00, 5: 0.95, 4: 0.85, 3: 0.70, 2: 0.45, 1: 0.20, 0:0}\n",
    "\n",
    "X1 = results.loc[:,'correct'].map(mapping)\n",
    "X1 = X1.reset_index().loc[:,'correct']\n",
    "X2 = results.loc[:,'time'].reset_index().loc[:,'time']\n",
    "\n",
    "X = pd.concat((X1, X2), axis=1)\n",
    "\n",
    "model = IsolationForest(random_state=0, contamination=0.015)\n",
    "model.fit(X)\n",
    "\n",
    "# Zapisz\n",
    "joblib.dump(model, 'isolation_forest_model.joblib')\n",
    "\n"
   ]
  },
  {
   "cell_type": "code",
   "execution_count": null,
   "id": "6046bba5-9677-477d-8f7f-1674607cc22f",
   "metadata": {},
   "outputs": [],
   "source": []
  },
  {
   "cell_type": "code",
   "execution_count": null,
   "id": "0f8ad6cb-ec2b-42eb-bccb-89f5793ab31c",
   "metadata": {},
   "outputs": [],
   "source": []
  }
 ],
 "metadata": {
  "kernelspec": {
   "display_name": "Python 3 (ipykernel)",
   "language": "python",
   "name": "python3"
  },
  "language_info": {
   "codemirror_mode": {
    "name": "ipython",
    "version": 3
   },
   "file_extension": ".py",
   "mimetype": "text/x-python",
   "name": "python",
   "nbconvert_exporter": "python",
   "pygments_lexer": "ipython3",
   "version": "3.9.21"
  }
 },
 "nbformat": 4,
 "nbformat_minor": 5
}
