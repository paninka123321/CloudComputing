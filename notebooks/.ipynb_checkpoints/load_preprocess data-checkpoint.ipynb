{
 "cells": [
  {
   "cell_type": "code",
   "execution_count": 5,
   "id": "22bb537d-d706-429c-8047-62ae901393e4",
   "metadata": {},
   "outputs": [],
   "source": [
    "import pandas as pd\n",
    "import numpy as np\n",
    "from sklearn.preprocessing import StandardScaler\n",
    "\n",
    "def load_prepare_data():\n",
    "    # Wczytaj dane\n",
    "    students = pd.read_csv('../database/csvki/uczniowie.csv', sep=',', quotechar='\"', doublequote=True)\n",
    "    games_results = pd.read_csv('../database/csvki/wyniki_gier.csv', sep=';', encoding='utf-8')\n",
    "    surveys_results = pd.read_csv('../database/csvki/wyniki_kwestionariuszy.csv', sep=';', encoding='utf-8')\n",
    "\n",
    "    # Przetwarzanie danych z gier\n",
    "    games_results['Srednia_Wynikow'] = games_results[['Wynik_1','Wynik_2','Wynik_3','Wynik_4','Wynik_5','Wynik_6']].mean(axis=1)\n",
    "    test = games_results.groupby('ID_Ucznia')[['Czas_Wykonania', 'Srednia_Wynikow']].mean().reset_index()\n",
    "\n",
    "    # Połączenie danych\n",
    "    model_data = pd.merge(test, students, on='ID_Ucznia')\n",
    "    model_data = model_data[['ID_Ucznia', 'Czas_Wykonania', 'Srednia_Wynikow', 'Średnia_z_zachowania', 'Podejrzenie_ADHD']]\n",
    "\n",
    "    # Przygotowanie X i y\n",
    "    X = model_data[['Czas_Wykonania', 'Srednia_Wynikow', 'Średnia_z_zachowania']].values\n",
    "    y = model_data['Podejrzenie_ADHD'].map({\n",
    "        'brak': 0,\n",
    "        'podejrzenie': 1,\n",
    "        'stwierdzone': 1\n",
    "    })\n",
    "\n",
    "    # Skalowanie cech\n",
    "    scaler = StandardScaler()\n",
    "    X = scaler.fit_transform(X)\n",
    "\n",
    "    return X, y\n"
   ]
  }
 ],
 "metadata": {
  "kernelspec": {
   "display_name": "Python 3 (ipykernel)",
   "language": "python",
   "name": "python3"
  },
  "language_info": {
   "codemirror_mode": {
    "name": "ipython",
    "version": 3
   },
   "file_extension": ".py",
   "mimetype": "text/x-python",
   "name": "python",
   "nbconvert_exporter": "python",
   "pygments_lexer": "ipython3",
   "version": "3.9.21"
  }
 },
 "nbformat": 4,
 "nbformat_minor": 5
}
