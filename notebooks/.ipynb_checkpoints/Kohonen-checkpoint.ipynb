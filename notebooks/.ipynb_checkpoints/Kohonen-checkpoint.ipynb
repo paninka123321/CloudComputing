{
 "cells": [
  {
   "cell_type": "code",
   "execution_count": 1,
   "id": "759e388e-0327-4077-906e-eed338e06a29",
   "metadata": {},
   "outputs": [],
   "source": [
    "class Kohonen():\n",
    "    def __init__(self, m,n, epochs, input_len, niu):\n",
    "        self.M = m\n",
    "        self.N = n\n",
    "        self.epochs = epochs\n",
    "        self.input_len = input_len\n",
    "        self.w = np.random.rand(m, n, input_len)\n",
    "        self.niu = niu\n",
    "        self.labels = np.zeros((m, n))\n",
    "    def eucl(self,x,y):\n",
    "        return np.linalg.norm(x-y)\n",
    "    def neigh_weight(self, n1,n2,t):\n",
    "        return np.exp(-(self.eucl(n1,n2)*t)**2)\n",
    "    def winning_neuron(self, input):\n",
    "        min = np.inf\n",
    "        min_i = np.inf\n",
    "        min_j = np.inf\n",
    "        for i in range (self.M):\n",
    "            for j in range (self.N):\n",
    "                dist = self.eucl(self.w[i][j],input)\n",
    "                if (dist< min):\n",
    "                    min = dist\n",
    "                    min_i = i\n",
    "                    min_j = j\n",
    "        return min_i,min_j\n",
    "    def suppress(self,t, niu=2):\n",
    "        return niu*np.exp(-(t/niu))\n",
    "    def weight_actualization(self, i_win, j_win, t, x):\n",
    "        for i in range(self.M):\n",
    "            for j in range(self.N):\n",
    "                self.w[i][j] = self.w[i][j] + self.eucl(np.array([i_win,j_win]),np.array([i,j]))*self.suppress(t)*(x-self.w[i][j])\n",
    "\n",
    "    def train(self, X,y):\n",
    "        for epoch in range(self.epochs):\n",
    "            indices = np.random.permutation(len(X))\n",
    "            X = X[indices]\n",
    "            y = y[indices]\n",
    "            for x, label in zip(X,y):\n",
    "                i,j = self.winning_neuron(x)\n",
    "                self.weight_actualization(i,j,epoch,x)\n",
    "                self.labels[i, j] = label\n",
    "    def predict(self, X):\n",
    "        predictions = []\n",
    "        for x in X:\n",
    "            i, j = self.winning_neuron(x)\n",
    "            predictions.append(self.labels[i, j])  # Zwrócenie etykiety neuronu, który wygrał\n",
    "        return np.array(predictions)"
   ]
  },
  {
   "cell_type": "code",
   "execution_count": 3,
   "id": "44780c42-861d-406e-b3b6-0332470a35a9",
   "metadata": {},
   "outputs": [
    {
     "name": "stderr",
     "output_type": "stream",
     "text": [
      "[NbConvertApp] Converting notebook Kohonen.ipynb to script\n",
      "[NbConvertApp] Writing 0 bytes to Kohonen.txt\n"
     ]
    }
   ],
   "source": [
    "!jupyter nbconvert --to script Kohonen.ipynb"
   ]
  },
  {
   "cell_type": "code",
   "execution_count": null,
   "id": "a13e3111-0782-41d5-8056-dcd2dacb07d2",
   "metadata": {},
   "outputs": [],
   "source": []
  }
 ],
 "metadata": {
  "kernelspec": {
   "display_name": "Python 3 (ipykernel)",
   "language": "python",
   "name": "python3"
  },
  "language_info": {
   "codemirror_mode": {
    "name": "ipython",
    "version": 3
   },
   "file_extension": ".py",
   "mimetype": "text/x-python",
   "name": "python",
   "nbconvert_exporter": "python",
   "pygments_lexer": "ipython3",
   "version": "3.9.21"
  }
 },
 "nbformat": 4,
 "nbformat_minor": 5
}
